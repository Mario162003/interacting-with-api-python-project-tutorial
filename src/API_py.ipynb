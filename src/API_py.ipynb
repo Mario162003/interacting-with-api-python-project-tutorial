{
 "cells": [
  {
   "cell_type": "code",
   "execution_count": 2,
   "metadata": {},
   "outputs": [],
   "source": [
    "import os\n",
    "import pandas as pd\n",
    "import seaborn as sns\n",
    "from dotenv import load_dotenv\n",
    "import spotipy\n",
    "from spotipy.oauth2 import SpotifyOAuth\n",
    "import spotify\n",
    "from spotipy.oauth2 import SpotifyClientCredentials"
   ]
  },
  {
   "cell_type": "code",
   "execution_count": 3,
   "metadata": {},
   "outputs": [
    {
     "name": "stdout",
     "output_type": "stream",
     "text": [
      "0b000639feae45cf9c7f93d5b057f512\n"
     ]
    }
   ],
   "source": [
    "load_dotenv()\n",
    "client_id = os.environ.get(\"CLIENT_ID\")\n",
    "client_secret = os.environ.get(\"CLIENT_SECRET\")\n",
    "print(client_id)"
   ]
  },
  {
   "cell_type": "code",
   "execution_count": 4,
   "metadata": {},
   "outputs": [],
   "source": [
    "client_credential_manager = SpotifyClientCredentials(client_id=os.getenv(\"CLIENT_ID\"), client_secret=os.getenv(\"CLIENT_SECRET\")) \n",
    "\n",
    "sp = spotipy.Spotify(client_credentials_manager=client_credential_manager)"
   ]
  },
  {
   "cell_type": "code",
   "execution_count": 64,
   "metadata": {},
   "outputs": [
    {
     "name": "stderr",
     "output_type": "stream",
     "text": [
      "C:\\Users\\macar\\AppData\\Local\\Temp\\ipykernel_26468\\1824920261.py:13: FutureWarning: The behavior of DataFrame concatenation with empty or all-NA entries is deprecated. In a future version, this will no longer exclude empty or all-NA columns when determining the result dtypes. To retain the old behavior, exclude the relevant entries before the concat operation.\n",
      "  df=pd.concat([df,pd.DataFrame({'name':name,'popularity':popu,'time':round(time,2)}, index = [0])], ignore_index = True)\n"
     ]
    },
    {
     "data": {
      "text/html": [
       "<div>\n",
       "<style scoped>\n",
       "    .dataframe tbody tr th:only-of-type {\n",
       "        vertical-align: middle;\n",
       "    }\n",
       "\n",
       "    .dataframe tbody tr th {\n",
       "        vertical-align: top;\n",
       "    }\n",
       "\n",
       "    .dataframe thead th {\n",
       "        text-align: right;\n",
       "    }\n",
       "</style>\n",
       "<table border=\"1\" class=\"dataframe\">\n",
       "  <thead>\n",
       "    <tr style=\"text-align: right;\">\n",
       "      <th></th>\n",
       "      <th>name</th>\n",
       "      <th>popularity</th>\n",
       "      <th>time</th>\n",
       "    </tr>\n",
       "  </thead>\n",
       "  <tbody>\n",
       "    <tr>\n",
       "      <th>0</th>\n",
       "      <td>Not Like Us</td>\n",
       "      <td>96</td>\n",
       "      <td>4.57</td>\n",
       "    </tr>\n",
       "    <tr>\n",
       "      <th>1</th>\n",
       "      <td>Like That</td>\n",
       "      <td>89</td>\n",
       "      <td>4.46</td>\n",
       "    </tr>\n",
       "    <tr>\n",
       "      <th>2</th>\n",
       "      <td>All The Stars (with SZA)</td>\n",
       "      <td>86</td>\n",
       "      <td>3.87</td>\n",
       "    </tr>\n",
       "    <tr>\n",
       "      <th>3</th>\n",
       "      <td>euphoria</td>\n",
       "      <td>86</td>\n",
       "      <td>6.39</td>\n",
       "    </tr>\n",
       "    <tr>\n",
       "      <th>4</th>\n",
       "      <td>Money Trees</td>\n",
       "      <td>79</td>\n",
       "      <td>6.45</td>\n",
       "    </tr>\n",
       "    <tr>\n",
       "      <th>5</th>\n",
       "      <td>HUMBLE.</td>\n",
       "      <td>85</td>\n",
       "      <td>2.95</td>\n",
       "    </tr>\n",
       "    <tr>\n",
       "      <th>6</th>\n",
       "      <td>PRIDE.</td>\n",
       "      <td>83</td>\n",
       "      <td>4.59</td>\n",
       "    </tr>\n",
       "    <tr>\n",
       "      <th>7</th>\n",
       "      <td>LOVE. FEAT. ZACARI.</td>\n",
       "      <td>82</td>\n",
       "      <td>3.56</td>\n",
       "    </tr>\n",
       "    <tr>\n",
       "      <th>8</th>\n",
       "      <td>family ties (with Kendrick Lamar)</td>\n",
       "      <td>81</td>\n",
       "      <td>4.20</td>\n",
       "    </tr>\n",
       "    <tr>\n",
       "      <th>9</th>\n",
       "      <td>Alright</td>\n",
       "      <td>80</td>\n",
       "      <td>3.66</td>\n",
       "    </tr>\n",
       "  </tbody>\n",
       "</table>\n",
       "</div>"
      ],
      "text/plain": [
       "                                name popularity  time\n",
       "0                        Not Like Us         96  4.57\n",
       "1                          Like That         89  4.46\n",
       "2           All The Stars (with SZA)         86  3.87\n",
       "3                           euphoria         86  6.39\n",
       "4                        Money Trees         79  6.45\n",
       "5                            HUMBLE.         85  2.95\n",
       "6                             PRIDE.         83  4.59\n",
       "7                LOVE. FEAT. ZACARI.         82  3.56\n",
       "8  family ties (with Kendrick Lamar)         81  4.20\n",
       "9                            Alright         80  3.66"
      ]
     },
     "execution_count": 64,
     "metadata": {},
     "output_type": "execute_result"
    }
   ],
   "source": [
    "response = sp.artist_top_tracks(\"2YZyLoL8N0Wb9xBt1NhZWg\")\n",
    "popularities = []\n",
    "times = []\n",
    "if response:\n",
    "  df= pd.DataFrame(columns = ['name', 'popularity', 'time'])\n",
    "  tracks = response[\"tracks\"]\n",
    "  for track in tracks:\n",
    "    name=track['name']\n",
    "    popu=track['popularity']\n",
    "    time=int(track['duration_ms'])/(1000*60)\n",
    "    popularities.append(popu)\n",
    "    times.append(time)\n",
    "    df=pd.concat([df,pd.DataFrame({'name':name,'popularity':popu,'time':round(time,2)}, index = [0])], ignore_index = True)\n",
    "\n",
    "df"
   ]
  },
  {
   "cell_type": "code",
   "execution_count": 54,
   "metadata": {},
   "outputs": [
    {
     "data": {
      "text/html": [
       "<div>\n",
       "<style scoped>\n",
       "    .dataframe tbody tr th:only-of-type {\n",
       "        vertical-align: middle;\n",
       "    }\n",
       "\n",
       "    .dataframe tbody tr th {\n",
       "        vertical-align: top;\n",
       "    }\n",
       "\n",
       "    .dataframe thead th {\n",
       "        text-align: right;\n",
       "    }\n",
       "</style>\n",
       "<table border=\"1\" class=\"dataframe\">\n",
       "  <thead>\n",
       "    <tr style=\"text-align: right;\">\n",
       "      <th></th>\n",
       "      <th>name</th>\n",
       "      <th>popularity</th>\n",
       "      <th>time</th>\n",
       "    </tr>\n",
       "  </thead>\n",
       "  <tbody>\n",
       "    <tr>\n",
       "      <th>4</th>\n",
       "      <td>Money Trees</td>\n",
       "      <td>79</td>\n",
       "      <td>6.45</td>\n",
       "    </tr>\n",
       "    <tr>\n",
       "      <th>9</th>\n",
       "      <td>Alright</td>\n",
       "      <td>80</td>\n",
       "      <td>3.66</td>\n",
       "    </tr>\n",
       "    <tr>\n",
       "      <th>8</th>\n",
       "      <td>family ties (with Kendrick Lamar)</td>\n",
       "      <td>81</td>\n",
       "      <td>4.20</td>\n",
       "    </tr>\n",
       "  </tbody>\n",
       "</table>\n",
       "</div>"
      ],
      "text/plain": [
       "                                name popularity  time\n",
       "4                        Money Trees         79  6.45\n",
       "9                            Alright         80  3.66\n",
       "8  family ties (with Kendrick Lamar)         81  4.20"
      ]
     },
     "execution_count": 54,
     "metadata": {},
     "output_type": "execute_result"
    }
   ],
   "source": [
    "df_popu = df.sort_values('popularity')\n",
    "df_popu.head(3)"
   ]
  },
  {
   "cell_type": "code",
   "execution_count": 8,
   "metadata": {},
   "outputs": [
    {
     "data": {
      "image/png": "[encoded data removed]",
      "text/plain": [
       "<Figure size 640x480 with 1 Axes>"
      ]
     },
     "metadata": {},
     "output_type": "display_data"
    }
   ],
   "source": [
    "import matplotlib.pyplot as plt\n",
    "import seaborn as sns\n",
    "\n",
    "scatter_plot = sns.scatterplot(data = df_popu, x = \"popularity\", y = \"time\")\n",
    "fig = scatter_plot.get_figure()\n",
    "fig.savefig(\"scatter_plot.png\")"
   ]
  },
  {
   "cell_type": "code",
   "execution_count": 79,
   "metadata": {},
   "outputs": [
    {
     "name": "stdout",
     "output_type": "stream",
     "text": [
      "-0.035\n"
     ]
    }
   ],
   "source": [
    "import numpy as np\n",
    "arr_popu = np.array(popularities)\n",
    "arr_time = np.array(times)\n",
    "\n",
    "corr = np.corrcoef(arr_popu,arr_time)\n",
    "print(round(corr[0,1],3))"
   ]
  },
  {
   "cell_type": "markdown",
   "metadata": {},
   "source": [
    "Obsevando el scatterplot, podemos decir que no se observa una clara evidencia de qué a más duración de la canción más popularidad esta tendrá, ya qué vemos puntos muy dispersos entre si, sin una clara dirección. De hecho, si hacemos la correlación entro tiempo y popularidad, podemos observar que es -0.03, lo cuál refuerza la idea de qué no hay una relación positiva entre tiempo y popularidad."
   ]
  }
 ],
 "metadata": {
  "kernelspec": {
   "display_name": "Python 3",
   "language": "python",
   "name": "python3"
  },
  "language_info": {
   "codemirror_mode": {
    "name": "ipython",
    "version": 3
   },
   "file_extension": ".py",
   "mimetype": "text/x-python",
   "name": "python",
   "nbconvert_exporter": "python",
   "pygments_lexer": "ipython3",
   "version": "3.10.11"
  }
 },
 "nbformat": 4,
 "nbformat_minor": 2
}
